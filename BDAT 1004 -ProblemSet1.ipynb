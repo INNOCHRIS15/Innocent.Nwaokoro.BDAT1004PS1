{
 "cells": [
  {
   "cell_type": "markdown",
   "id": "0d42bb84-6682-495f-8bb9-830895c87e29",
   "metadata": {},
   "source": [
    "# Question 1\n",
    "\n",
    "To identify the data type"
   ]
  },
  {
   "cell_type": "code",
   "execution_count": 13,
   "id": "ecfb5b3b-9aae-4836-87fc-b91c235f9207",
   "metadata": {},
   "outputs": [
    {
     "name": "stdout",
     "output_type": "stream",
     "text": [
      "5 <class 'int'>\n",
      "5.0 <class 'float'>\n",
      "True <class 'bool'>\n",
      "5 <class 'str'>\n",
      "10 <class 'int'>\n",
      "55 <class 'str'>\n",
      "52 <class 'str'>\n",
      "2.5 <class 'float'>\n",
      "1 <class 'int'>\n",
      "{1, 2, 5} <class 'set'>\n",
      "False <class 'bool'>\n",
      "3.141592653589793 <class 'float'>\n"
     ]
    }
   ],
   "source": [
    "a1 = 5           \n",
    "print(a1, type(a1))\n",
    "\n",
    "a2 = 5.0          \n",
    "print(a2, type(a2))\n",
    "\n",
    "a3 = 5 > 1       \n",
    "print(a3, type(a3))\n",
    "\n",
    "a4 = '5'          \n",
    "print(a4, type(a4))\n",
    "\n",
    "a5 = 5 * 2       \n",
    "print(a5, type(a5))\n",
    "\n",
    "a6 = '5' * 2     \n",
    "print(a6, type(a6))\n",
    "\n",
    "a7 = '5' + '2'    \n",
    "print(a7, type(a7))\n",
    "\n",
    "a8 = 5 / 2        \n",
    "print(a8, type(a8))\n",
    "\n",
    "a9 = 5 % 2        \n",
    "print(a9, type(a9))\n",
    "\n",
    "a10 = {5, 2, 1}   \n",
    "print(a10, type(a10))\n",
    "\n",
    "a11 = 5 == 3     \n",
    "print(a11, type(a11))\n",
    "\n",
    "a12 = math.pi     \n",
    "print(a12, type(a12))\n"
   ]
  },
  {
   "cell_type": "markdown",
   "id": "38abbdcd-c054-4dcc-b4e3-599972a11346",
   "metadata": {},
   "source": [
    "# Question 2 \n",
    "\n",
    "Evaluation of words in python"
   ]
  },
  {
   "cell_type": "code",
   "execution_count": 16,
   "id": "abc19427-a7a8-4b0a-b46a-1cb9210221ae",
   "metadata": {},
   "outputs": [
    {
     "name": "stdout",
     "output_type": "stream",
     "text": [
      "a. Number of letters: 34\n",
      "b. Contains 'ice': True\n",
      "c. Longest word: Supercalifragilisticexpialidocious\n",
      "d. First composer: Bartok\n",
      "Last composer: Buxtehude\n"
     ]
    }
   ],
   "source": [
    "word_a = 'Supercalifragilisticexpialidocious'\n",
    "count_letters = len(word_a)\n",
    "print(f\"a. Number of letters: {count_letters}\")\n",
    "\n",
    "contains_ice = 'ice' in word_a\n",
    "print(f\"b. Contains 'ice': {contains_ice}\")\n",
    "\n",
    "words = [\n",
    "    'Supercalifragilisticexpialidocious',\n",
    "    'Honorificabilitudinitatibus',\n",
    "    'Bababadalgharaghtakamminarronnkonn'\n",
    "]\n",
    "longest_word = max(words, key=len)\n",
    "print(f\"c. Longest word: {longest_word}\")\n",
    "\n",
    "composers = ['Berlioz', 'Borodin', 'Brian', 'Bartok', 'Bellini', 'Buxtehude', 'Bernstein']\n",
    "first_composer = min(composers)\n",
    "last_composer = max(composers)\n",
    "print(f\"d. First composer: {first_composer}\")\n",
    "print(f\"Last composer: {last_composer}\")\n"
   ]
  },
  {
   "cell_type": "markdown",
   "id": "a9421ffc-c9e6-4af3-b43b-9be5d5b6c248",
   "metadata": {},
   "source": [
    "# question 3\n",
    "\n",
    "Implement function triangleArea"
   ]
  },
  {
   "cell_type": "code",
   "execution_count": 19,
   "id": "d7c8be0c-5b2e-40c1-a3e7-159881397770",
   "metadata": {},
   "outputs": [
    {
     "name": "stdout",
     "output_type": "stream",
     "text": [
      "1.7320508075688772\n"
     ]
    }
   ],
   "source": [
    "def triangleArea(a, b, c):\n",
    "    s = (a + b + c) / 2\n",
    "    \n",
    "    area = math.sqrt(s * (s - a) * (s - b) * (s - c))\n",
    "    \n",
    "    return area\n",
    "\n",
    "result = triangleArea(2, 2, 2)\n",
    "print(result)\n",
    "\n"
   ]
  },
  {
   "cell_type": "markdown",
   "id": "11fca545-2a30-4759-92a9-61b2cd34db90",
   "metadata": {},
   "source": [
    "# QUESTION 4\n",
    "\n",
    "Program on Dataset"
   ]
  },
  {
   "cell_type": "code",
   "execution_count": 22,
   "id": "e8da468f-604c-4286-9b46-81529ab68477",
   "metadata": {},
   "outputs": [
    {
     "name": "stdin",
     "output_type": "stream",
     "text": [
      "Input the number of elements to be stored in the array:  5\n",
      "element - 0 :  25\n",
      "element - 1 :  47\n",
      "element - 2 :  42\n",
      "element - 3 :  56\n",
      "element - 4 :  32\n"
     ]
    },
    {
     "name": "stdout",
     "output_type": "stream",
     "text": [
      "The Even elements are:\n",
      "42 56 32\n",
      "The Odd elements are:\n",
      "25 47\n"
     ]
    }
   ],
   "source": [
    "def separate_odd_even():\n",
    "    n = int(input(\"Input the number of elements to be stored in the array: \"))\n",
    "    \n",
    "    even_numbers = []\n",
    "    odd_numbers = []\n",
    "    \n",
    "    for i in range(n):\n",
    "        element = int(input(f\"element - {i} : \"))\n",
    "        if element % 2 == 0:\n",
    "            even_numbers.append(element)\n",
    "        else:\n",
    "            odd_numbers.append(element)\n",
    "    \n",
    "    print(\"The Even elements are:\")\n",
    "    print(\" \".join(map(str, even_numbers)))\n",
    "    \n",
    "    print(\"The Odd elements are:\")\n",
    "    print(\" \".join(map(str, odd_numbers)))\n",
    "\n",
    "separate_odd_even()\n"
   ]
  },
  {
   "cell_type": "markdown",
   "id": "8853de0e-d8ba-45ef-918b-79c9c2567906",
   "metadata": {},
   "source": [
    "# QUESTION 5 \n",
    "\n",
    "Python code for the inside function"
   ]
  },
  {
   "cell_type": "code",
   "execution_count": 3,
   "id": "1a130d24-6dc3-48da-8af9-2c595b6f3bdf",
   "metadata": {},
   "outputs": [
    {
     "name": "stdout",
     "output_type": "stream",
     "text": [
      "True\n",
      "False\n",
      "The point (1, 1) lies in Rectangle 1: False\n",
      "The point (1, 1) lies in Rectangle 2: True\n"
     ]
    }
   ],
   "source": [
    "def inside(x, y, x1, y1, x2, y2):\n",
    "    \"\"\"Check if the point (x, y) lies within the rectangle defined by (x1, y1) and (x2, y2).\"\"\"\n",
    "    return x1 <= x <= x2 and y1 <= y <= y2\n",
    "\n",
    "if __name__ == \"__main__\":\n",
    "   \n",
    "    print(inside(1, 1, 0, 0, 2, 3))  \n",
    "    print(inside(-1, -1, 0, 0, 2, 3))  \n",
    "\n",
    "    point = (1, 1)\n",
    "    rect1 = (0.3, 0.5, 1.1, 0.7) \n",
    "    rect2 = (0.5, 0.2, 1.1, 2)   \n",
    "\n",
    "    in_rect1 = inside(point[0], point[1], *rect1)\n",
    "    in_rect2 = inside(point[0], point[1], *rect2)\n",
    "\n",
    "    print(f\"The point {point} lies in Rectangle 1: {in_rect1}\") \n",
    "    print(f\"The point {point} lies in Rectangle 2: {in_rect2}\") \n"
   ]
  },
  {
   "cell_type": "markdown",
   "id": "7301a731-1f57-41b1-b9a5-3558ab789925",
   "metadata": {},
   "source": [
    "# QUESTION 6\n",
    "\n",
    "Python implementation of the pig"
   ]
  },
  {
   "cell_type": "code",
   "execution_count": 6,
   "id": "e5ae9236-50eb-450d-a9c6-c971ffc27854",
   "metadata": {},
   "outputs": [
    {
     "name": "stdout",
     "output_type": "stream",
     "text": [
      "appyhay\n",
      "enterway\n"
     ]
    }
   ],
   "source": [
    "def pig(word):\n",
    "    \"\"\"Convert a word to its Pig Latin form.\"\"\"\n",
    "    word_lower = word.lower()\n",
    "\n",
    "    if word_lower[0] in 'aeiou':\n",
    "        return word_lower + 'way'\n",
    "    else:\n",
    "       \n",
    "        return word_lower[1:] + word_lower[0] + 'ay'\n",
    "\n",
    "if __name__ == \"__main__\":\n",
    "    print(pig('happy'))  \n",
    "    print(pig('Enter'))  \n"
   ]
  },
  {
   "cell_type": "markdown",
   "id": "dbf31e18-ea65-44af-a7db-bfd6b8fbdd5a",
   "metadata": {},
   "source": [
    "# QUESTION 7\n",
    "\n",
    "Blood type analysis"
   ]
  },
  {
   "cell_type": "code",
   "execution_count": 9,
   "id": "856d61e0-1e3e-4503-999d-54688fc86965",
   "metadata": {},
   "outputs": [
    {
     "name": "stdout",
     "output_type": "stream",
     "text": [
      "There are 15 patients of blood type A.\n",
      "There is 1 patient of blood type B.\n",
      "There are 13 patients of blood type AB.\n",
      "There are 15 patients of blood type O.\n",
      "There are 0 patients of blood type OO.\n"
     ]
    }
   ],
   "source": [
    "def bldcount(filename):\n",
    "    \"\"\"Read blood types from a file and print the count of each blood type.\"\"\"\n",
    "    blood_types = {\n",
    "        'A': 0,\n",
    "        'B': 0,\n",
    "        'AB': 0,\n",
    "        'O': 0,\n",
    "        'OO': 0\n",
    "    }\n",
    "\n",
    "    try:\n",
    "        with open(filename, 'r') as file:\n",
    "            blood_data = file.read().strip().split()\n",
    "            \n",
    "            for blood in blood_data:\n",
    "                if blood in blood_types:\n",
    "                    blood_types[blood] += 1\n",
    "\n",
    "        print(\"There are {} patients of blood type A.\".format(blood_types['A']))\n",
    "        print(\"There is {} patient of blood type B.\".format(blood_types['B'] if blood_types['B'] == 1 else blood_types['B']))\n",
    "        print(\"There are {} patients of blood type AB.\".format(blood_types['AB']))\n",
    "        print(\"There are {} patients of blood type O.\".format(blood_types['O']))\n",
    "        print(\"There are {} patients of blood type OO.\".format(blood_types['OO']))\n",
    "\n",
    "    except FileNotFoundError:\n",
    "        print(f\"Error: The file '{filename}' was not found.\")\n",
    "    except Exception as e:\n",
    "        print(f\"An error occurred: {e}\")\n",
    "\n",
    "if __name__ == \"__main__\":\n",
    "    bldcount('bloodtype1.txt')\n"
   ]
  },
  {
   "cell_type": "markdown",
   "id": "fc268371-8f2a-41e3-9492-bfbec1f45025",
   "metadata": {},
   "source": [
    "# QUESTON 8\n",
    "\n",
    "Currency conversion"
   ]
  },
  {
   "cell_type": "code",
   "execution_count": 14,
   "id": "1e0864fc-8e97-4264-9a7b-9de9c3645029",
   "metadata": {},
   "outputs": [
    {
     "name": "stdout",
     "output_type": "stream",
     "text": [
      "122.96544\n",
      "1.241401\n"
     ]
    }
   ],
   "source": [
    "def curconv(currency, amount):\n",
    "    \"\"\"Convert a given amount from the specified currency to US dollars.\"\"\"\n",
    "    currency_rates = {}\n",
    "\n",
    "    try:\n",
    "        with open('currencies.txt', 'r') as file:\n",
    "            for line in file:\n",
    "                parts = line.split()\n",
    "                if len(parts) >= 2:\n",
    "                    code = parts[0]\n",
    "                    rate = float(parts[1])\n",
    "                    currency_rates[code] = rate\n",
    "        if currency in currency_rates:\n",
    "            return amount * currency_rates[currency]\n",
    "        else:\n",
    "            return f\"Error: Currency '{currency}' not found in rates.\"\n",
    "\n",
    "    except FileNotFoundError:\n",
    "        return \"Error: The file 'currencies.txt' was not found.\"\n",
    "    except Exception as e:\n",
    "        return f\"An error occurred: {e}\"\n",
    "\n",
    "if __name__ == \"__main__\":\n",
    "    print(curconv('EUR', 100))  \n",
    "    print(curconv('JPY', 100)) \n"
   ]
  },
  {
   "cell_type": "markdown",
   "id": "699aacec-99b7-4872-9b87-30dba8dfe127",
   "metadata": {},
   "source": [
    "# QUESTION 9\n",
    "\n",
    "program that demonstrate variables\n"
   ]
  },
  {
   "cell_type": "markdown",
   "id": "f528c3cc-b6a9-48b0-9542-d1974afe7edb",
   "metadata": {},
   "source": [
    "TypeError: unsupported operand type(s) for +: 'int' and 'str'\r\n",
    "\r\n",
    "IndexError: list index out of rang\n",
    "\r\n",
    "\r\n",
    "ValueError: math domain error\r\n",
    "\r\n",
    "NameError: name 'x' is not de\n",
    "ined\r\n",
    "\r\n",
    "FileNotFoundError: [Errno 2] No such file or directory: 'non_existent_file.txt'\r\n",
    "\r",
    "ent_file.txt'"
   ]
  },
  {
   "cell_type": "markdown",
   "id": "e016cc32-7de5-4684-9ac4-d1e58f2bbf8f",
   "metadata": {},
   "source": [
    "# QUESTION 10\n",
    "\n",
    "Python function of frequencies"
   ]
  },
  {
   "cell_type": "code",
   "execution_count": 26,
   "id": "c9232b29-bd4b-49ca-a065-7193fffc866a",
   "metadata": {},
   "outputs": [
    {
     "name": "stdout",
     "output_type": "stream",
     "text": [
      "[1, 1, 1, 3, 5, 1, 1, 2, 1, 0, 1, 0, 1, 2, 4, 0, 1, 2, 0, 3, 1, 0, 1, 1, 0, 0]\n",
      "[1, 0, 0, 0, 1, 0, 0, 0, 0, 0, 0, 1, 0, 0, 0, 2, 0, 0, 0, 0, 0, 0, 0, 0, 0, 0]\n"
     ]
    }
   ],
   "source": [
    "def frequencies(text):\n",
    "    letters = 'abcdefghijklmnopqrstuvwxyz'\n",
    "    freq_list = [0] * 26\n",
    "\n",
    "    text = text.lower()\n",
    "\n",
    "    for char in text:\n",
    "        if char in letters:\n",
    "            index = letters.index(char)\n",
    "            freq_list[index] += 1\n",
    "\n",
    "    return freq_list\n",
    "\n",
    "if __name__ == \"__main__\":\n",
    "    print(frequencies('The quick red fox got bored and went home.'))\n",
    "    print(frequencies('apple'))\n"
   ]
  },
  {
   "cell_type": "code",
   "execution_count": null,
   "id": "38404823-20b6-40cb-8c5e-d3c12c9c60ab",
   "metadata": {},
   "outputs": [],
   "source": []
  }
 ],
 "metadata": {
  "kernelspec": {
   "display_name": "Python 3 (ipykernel)",
   "language": "python",
   "name": "python3"
  },
  "language_info": {
   "codemirror_mode": {
    "name": "ipython",
    "version": 3
   },
   "file_extension": ".py",
   "mimetype": "text/x-python",
   "name": "python",
   "nbconvert_exporter": "python",
   "pygments_lexer": "ipython3",
   "version": "3.12.4"
  }
 },
 "nbformat": 4,
 "nbformat_minor": 5
}
